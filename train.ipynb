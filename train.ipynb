{
  "metadata": {
    "kernelspec": {
      "language": "python",
      "display_name": "Python 3",
      "name": "python3"
    },
    "language_info": {
      "name": "python",
      "version": "3.10.13",
      "mimetype": "text/x-python",
      "codemirror_mode": {
        "name": "ipython",
        "version": 3
      },
      "pygments_lexer": "ipython3",
      "nbconvert_exporter": "python",
      "file_extension": ".py"
    },
    "kaggle": {
      "accelerator": "none",
      "dataSources": [],
      "dockerImageVersionId": 30732,
      "isInternetEnabled": true,
      "language": "python",
      "sourceType": "notebook",
      "isGpuEnabled": false
    },
    "colab": {
      "name": "train",
      "provenance": [],
      "include_colab_link": true
    }
  },
  "nbformat_minor": 0,
  "nbformat": 4,
  "cells": [
    {
      "cell_type": "markdown",
      "metadata": {
        "id": "view-in-github",
        "colab_type": "text"
      },
      "source": [
        "<a href=\"https://colab.research.google.com/github/Shashwot90/LLM/blob/main/train.ipynb\" target=\"_parent\"><img src=\"https://colab.research.google.com/assets/colab-badge.svg\" alt=\"Open In Colab\"/></a>"
      ]
    },
    {
      "cell_type": "code",
      "source": [],
      "metadata": {
        "id": "FO7sK7exNPLr"
      },
      "execution_count": null,
      "outputs": []
    },
    {
      "cell_type": "code",
      "source": [
        "# This Python 3 environment comes with many helpful analytics libraries installed\n",
        "# It is defined by the kaggle/python Docker image: https://github.com/kaggle/docker-python\n",
        "# For example, here's several helpful packages to load\n",
        "\n",
        "import numpy as np # linear algebra\n",
        "import pandas as pd # data processing, CSV file I/O (e.g. pd.read_csv)\n",
        "\n",
        "# Input data files are available in the read-only \"../input/\" directory\n",
        "# For example, running this (by clicking run or pressing Shift+Enter) will list all files under the input directory\n",
        "\n",
        "import os\n",
        "for dirname, _, filenames in os.walk('/kaggle/input'):\n",
        "    for filename in filenames:\n",
        "        print(os.path.join(dirname, filename))\n",
        "\n",
        "# You can write up to 20GB to the current directory (/kaggle/working/) that gets preserved as output when you create a version using \"Save & Run All\"\n",
        "# You can also write temporary files to /kaggle/temp/, but they won't be saved outside of the current session"
      ],
      "metadata": {
        "_uuid": "8f2839f25d086af736a60e9eeb907d3b93b6e0e5",
        "_cell_guid": "b1076dfc-b9ad-4769-8c92-a6c4dae69d19",
        "execution": {
          "iopub.status.busy": "2024-06-17T02:04:27.901005Z",
          "iopub.execute_input": "2024-06-17T02:04:27.901363Z",
          "iopub.status.idle": "2024-06-17T02:04:29.199044Z",
          "shell.execute_reply.started": "2024-06-17T02:04:27.901335Z",
          "shell.execute_reply": "2024-06-17T02:04:29.197852Z"
        },
        "trusted": true,
        "id": "v-SaNI4UNPLs"
      },
      "execution_count": null,
      "outputs": []
    },
    {
      "cell_type": "code",
      "source": [
        "!wget https://raw.githubusercontent.com/karpathy/char-rnn/master/data/tinyshakespeare/input.txt"
      ],
      "metadata": {
        "execution": {
          "iopub.status.busy": "2024-06-17T02:04:29.200821Z",
          "iopub.execute_input": "2024-06-17T02:04:29.201278Z",
          "iopub.status.idle": "2024-06-17T02:04:30.61592Z",
          "shell.execute_reply.started": "2024-06-17T02:04:29.201246Z",
          "shell.execute_reply": "2024-06-17T02:04:30.614609Z"
        },
        "trusted": true,
        "id": "Xirl9hugNPLu",
        "outputId": "d69b3d8a-c491-485a-c7dc-2305bc264359"
      },
      "execution_count": null,
      "outputs": [
        {
          "name": "stdout",
          "text": "--2024-06-17 02:04:30--  https://raw.githubusercontent.com/karpathy/char-rnn/master/data/tinyshakespeare/input.txt\nResolving raw.githubusercontent.com (raw.githubusercontent.com)... 185.199.109.133, 185.199.108.133, 185.199.110.133, ...\nConnecting to raw.githubusercontent.com (raw.githubusercontent.com)|185.199.109.133|:443... connected.\nHTTP request sent, awaiting response... 200 OK\nLength: 1115394 (1.1M) [text/plain]\nSaving to: 'input.txt'\n\ninput.txt           100%[===================>]   1.06M  --.-KB/s    in 0.06s   \n\n2024-06-17 02:04:30 (16.8 MB/s) - 'input.txt' saved [1115394/1115394]\n\n",
          "output_type": "stream"
        }
      ]
    },
    {
      "cell_type": "code",
      "source": [
        "with open('input.txt', 'r', encoding='utf-8') as f:\n",
        "    text = f.read()"
      ],
      "metadata": {
        "execution": {
          "iopub.status.busy": "2024-06-17T02:04:30.617963Z",
          "iopub.execute_input": "2024-06-17T02:04:30.618458Z",
          "iopub.status.idle": "2024-06-17T02:04:30.628875Z",
          "shell.execute_reply.started": "2024-06-17T02:04:30.618391Z",
          "shell.execute_reply": "2024-06-17T02:04:30.627304Z"
        },
        "trusted": true,
        "id": "fpKb4ZT-NPLv"
      },
      "execution_count": null,
      "outputs": []
    },
    {
      "cell_type": "code",
      "source": [
        "print(\"length of dataset in characters: \", len(text))"
      ],
      "metadata": {
        "execution": {
          "iopub.status.busy": "2024-06-17T02:04:30.632295Z",
          "iopub.execute_input": "2024-06-17T02:04:30.632888Z",
          "iopub.status.idle": "2024-06-17T02:04:30.64036Z",
          "shell.execute_reply.started": "2024-06-17T02:04:30.632839Z",
          "shell.execute_reply": "2024-06-17T02:04:30.638759Z"
        },
        "trusted": true,
        "id": "2LDe6yetNPLv",
        "outputId": "9fe66a87-1a57-48f0-9edc-ab86e87c0d72"
      },
      "execution_count": null,
      "outputs": [
        {
          "name": "stdout",
          "text": "length of dataset in characters:  1115394\n",
          "output_type": "stream"
        }
      ]
    },
    {
      "cell_type": "code",
      "source": [
        "print(text[:1000])"
      ],
      "metadata": {
        "execution": {
          "iopub.status.busy": "2024-06-17T02:04:30.642879Z",
          "iopub.execute_input": "2024-06-17T02:04:30.643468Z",
          "iopub.status.idle": "2024-06-17T02:04:30.653672Z",
          "shell.execute_reply.started": "2024-06-17T02:04:30.643424Z",
          "shell.execute_reply": "2024-06-17T02:04:30.652267Z"
        },
        "trusted": true,
        "id": "vmn83GRlNPLw",
        "outputId": "e21d6881-4c9f-4b61-b59f-8f2c9e6071ab"
      },
      "execution_count": null,
      "outputs": [
        {
          "name": "stdout",
          "text": "First Citizen:\nBefore we proceed any further, hear me speak.\n\nAll:\nSpeak, speak.\n\nFirst Citizen:\nYou are all resolved rather to die than to famish?\n\nAll:\nResolved. resolved.\n\nFirst Citizen:\nFirst, you know Caius Marcius is chief enemy to the people.\n\nAll:\nWe know't, we know't.\n\nFirst Citizen:\nLet us kill him, and we'll have corn at our own price.\nIs't a verdict?\n\nAll:\nNo more talking on't; let it be done: away, away!\n\nSecond Citizen:\nOne word, good citizens.\n\nFirst Citizen:\nWe are accounted poor citizens, the patricians good.\nWhat authority surfeits on would relieve us: if they\nwould yield us but the superfluity, while it were\nwholesome, we might guess they relieved us humanely;\nbut they think we are too dear: the leanness that\nafflicts us, the object of our misery, is as an\ninventory to particularise their abundance; our\nsufferance is a gain to them Let us revenge this with\nour pikes, ere we become rakes: for the gods know I\nspeak this in hunger for bread, not in thirst for revenge.\n\n\n",
          "output_type": "stream"
        }
      ]
    },
    {
      "cell_type": "code",
      "source": [
        "chars = sorted(list(set(text)))\n",
        "vocab_size = len(chars)\n",
        "print(''.join(chars))\n",
        "print(vocab_size)"
      ],
      "metadata": {
        "execution": {
          "iopub.status.busy": "2024-06-17T02:04:30.655526Z",
          "iopub.execute_input": "2024-06-17T02:04:30.656017Z",
          "iopub.status.idle": "2024-06-17T02:04:30.691305Z",
          "shell.execute_reply.started": "2024-06-17T02:04:30.655977Z",
          "shell.execute_reply": "2024-06-17T02:04:30.690025Z"
        },
        "trusted": true,
        "id": "SvOKqklSNPLx",
        "outputId": "add13059-f78c-439d-fd28-303f851280f4"
      },
      "execution_count": null,
      "outputs": [
        {
          "name": "stdout",
          "text": "\n !$&',-.3:;?ABCDEFGHIJKLMNOPQRSTUVWXYZabcdefghijklmnopqrstuvwxyz\n65\n",
          "output_type": "stream"
        }
      ]
    },
    {
      "cell_type": "code",
      "source": [
        "stoi = { ch:i for i, ch in enumerate(chars)}\n",
        "itos = { i:ch for i, ch in enumerate(chars)}\n",
        "encode = lambda s: [stoi[c] for c in s]\n",
        "decode = lambda l: ''.join([itos[i] for i in l])\n",
        "\n",
        "print(encode('hii there'))\n",
        "print(decode(encode('hi there')))"
      ],
      "metadata": {
        "execution": {
          "iopub.status.busy": "2024-06-17T02:04:30.693299Z",
          "iopub.execute_input": "2024-06-17T02:04:30.69372Z",
          "iopub.status.idle": "2024-06-17T02:04:30.704787Z",
          "shell.execute_reply.started": "2024-06-17T02:04:30.693679Z",
          "shell.execute_reply": "2024-06-17T02:04:30.703613Z"
        },
        "trusted": true,
        "id": "4NyQNnSFNPLy",
        "outputId": "9201ea86-3840-4588-d8f7-686177f471ed"
      },
      "execution_count": null,
      "outputs": [
        {
          "name": "stdout",
          "text": "[46, 47, 47, 1, 58, 46, 43, 56, 43]\nhi there\n",
          "output_type": "stream"
        }
      ]
    },
    {
      "cell_type": "code",
      "source": [
        "import torch\n",
        "data = torch.tensor(encode(text), dtype=torch.long)\n",
        "print(data.shape, data.dtype)\n",
        "print(data[:1000])"
      ],
      "metadata": {
        "execution": {
          "iopub.status.busy": "2024-06-17T02:04:30.706243Z",
          "iopub.execute_input": "2024-06-17T02:04:30.706959Z",
          "iopub.status.idle": "2024-06-17T02:04:34.715974Z",
          "shell.execute_reply.started": "2024-06-17T02:04:30.706917Z",
          "shell.execute_reply": "2024-06-17T02:04:34.714644Z"
        },
        "trusted": true,
        "id": "ti2N0gMZNPLz",
        "outputId": "8ab6f8e2-deff-440b-fba7-6e99a8c6d662"
      },
      "execution_count": null,
      "outputs": [
        {
          "name": "stdout",
          "text": "torch.Size([1115394]) torch.int64\ntensor([18, 47, 56, 57, 58,  1, 15, 47, 58, 47, 64, 43, 52, 10,  0, 14, 43, 44,\n        53, 56, 43,  1, 61, 43,  1, 54, 56, 53, 41, 43, 43, 42,  1, 39, 52, 63,\n         1, 44, 59, 56, 58, 46, 43, 56,  6,  1, 46, 43, 39, 56,  1, 51, 43,  1,\n        57, 54, 43, 39, 49,  8,  0,  0, 13, 50, 50, 10,  0, 31, 54, 43, 39, 49,\n         6,  1, 57, 54, 43, 39, 49,  8,  0,  0, 18, 47, 56, 57, 58,  1, 15, 47,\n        58, 47, 64, 43, 52, 10,  0, 37, 53, 59,  1, 39, 56, 43,  1, 39, 50, 50,\n         1, 56, 43, 57, 53, 50, 60, 43, 42,  1, 56, 39, 58, 46, 43, 56,  1, 58,\n        53,  1, 42, 47, 43,  1, 58, 46, 39, 52,  1, 58, 53,  1, 44, 39, 51, 47,\n        57, 46, 12,  0,  0, 13, 50, 50, 10,  0, 30, 43, 57, 53, 50, 60, 43, 42,\n         8,  1, 56, 43, 57, 53, 50, 60, 43, 42,  8,  0,  0, 18, 47, 56, 57, 58,\n         1, 15, 47, 58, 47, 64, 43, 52, 10,  0, 18, 47, 56, 57, 58,  6,  1, 63,\n        53, 59,  1, 49, 52, 53, 61,  1, 15, 39, 47, 59, 57,  1, 25, 39, 56, 41,\n        47, 59, 57,  1, 47, 57,  1, 41, 46, 47, 43, 44,  1, 43, 52, 43, 51, 63,\n         1, 58, 53,  1, 58, 46, 43,  1, 54, 43, 53, 54, 50, 43,  8,  0,  0, 13,\n        50, 50, 10,  0, 35, 43,  1, 49, 52, 53, 61,  5, 58,  6,  1, 61, 43,  1,\n        49, 52, 53, 61,  5, 58,  8,  0,  0, 18, 47, 56, 57, 58,  1, 15, 47, 58,\n        47, 64, 43, 52, 10,  0, 24, 43, 58,  1, 59, 57,  1, 49, 47, 50, 50,  1,\n        46, 47, 51,  6,  1, 39, 52, 42,  1, 61, 43,  5, 50, 50,  1, 46, 39, 60,\n        43,  1, 41, 53, 56, 52,  1, 39, 58,  1, 53, 59, 56,  1, 53, 61, 52,  1,\n        54, 56, 47, 41, 43,  8,  0, 21, 57,  5, 58,  1, 39,  1, 60, 43, 56, 42,\n        47, 41, 58, 12,  0,  0, 13, 50, 50, 10,  0, 26, 53,  1, 51, 53, 56, 43,\n         1, 58, 39, 50, 49, 47, 52, 45,  1, 53, 52,  5, 58, 11,  1, 50, 43, 58,\n         1, 47, 58,  1, 40, 43,  1, 42, 53, 52, 43, 10,  1, 39, 61, 39, 63,  6,\n         1, 39, 61, 39, 63,  2,  0,  0, 31, 43, 41, 53, 52, 42,  1, 15, 47, 58,\n        47, 64, 43, 52, 10,  0, 27, 52, 43,  1, 61, 53, 56, 42,  6,  1, 45, 53,\n        53, 42,  1, 41, 47, 58, 47, 64, 43, 52, 57,  8,  0,  0, 18, 47, 56, 57,\n        58,  1, 15, 47, 58, 47, 64, 43, 52, 10,  0, 35, 43,  1, 39, 56, 43,  1,\n        39, 41, 41, 53, 59, 52, 58, 43, 42,  1, 54, 53, 53, 56,  1, 41, 47, 58,\n        47, 64, 43, 52, 57,  6,  1, 58, 46, 43,  1, 54, 39, 58, 56, 47, 41, 47,\n        39, 52, 57,  1, 45, 53, 53, 42,  8,  0, 35, 46, 39, 58,  1, 39, 59, 58,\n        46, 53, 56, 47, 58, 63,  1, 57, 59, 56, 44, 43, 47, 58, 57,  1, 53, 52,\n         1, 61, 53, 59, 50, 42,  1, 56, 43, 50, 47, 43, 60, 43,  1, 59, 57, 10,\n         1, 47, 44,  1, 58, 46, 43, 63,  0, 61, 53, 59, 50, 42,  1, 63, 47, 43,\n        50, 42,  1, 59, 57,  1, 40, 59, 58,  1, 58, 46, 43,  1, 57, 59, 54, 43,\n        56, 44, 50, 59, 47, 58, 63,  6,  1, 61, 46, 47, 50, 43,  1, 47, 58,  1,\n        61, 43, 56, 43,  0, 61, 46, 53, 50, 43, 57, 53, 51, 43,  6,  1, 61, 43,\n         1, 51, 47, 45, 46, 58,  1, 45, 59, 43, 57, 57,  1, 58, 46, 43, 63,  1,\n        56, 43, 50, 47, 43, 60, 43, 42,  1, 59, 57,  1, 46, 59, 51, 39, 52, 43,\n        50, 63, 11,  0, 40, 59, 58,  1, 58, 46, 43, 63,  1, 58, 46, 47, 52, 49,\n         1, 61, 43,  1, 39, 56, 43,  1, 58, 53, 53,  1, 42, 43, 39, 56, 10,  1,\n        58, 46, 43,  1, 50, 43, 39, 52, 52, 43, 57, 57,  1, 58, 46, 39, 58,  0,\n        39, 44, 44, 50, 47, 41, 58, 57,  1, 59, 57,  6,  1, 58, 46, 43,  1, 53,\n        40, 48, 43, 41, 58,  1, 53, 44,  1, 53, 59, 56,  1, 51, 47, 57, 43, 56,\n        63,  6,  1, 47, 57,  1, 39, 57,  1, 39, 52,  0, 47, 52, 60, 43, 52, 58,\n        53, 56, 63,  1, 58, 53,  1, 54, 39, 56, 58, 47, 41, 59, 50, 39, 56, 47,\n        57, 43,  1, 58, 46, 43, 47, 56,  1, 39, 40, 59, 52, 42, 39, 52, 41, 43,\n        11,  1, 53, 59, 56,  0, 57, 59, 44, 44, 43, 56, 39, 52, 41, 43,  1, 47,\n        57,  1, 39,  1, 45, 39, 47, 52,  1, 58, 53,  1, 58, 46, 43, 51,  1, 24,\n        43, 58,  1, 59, 57,  1, 56, 43, 60, 43, 52, 45, 43,  1, 58, 46, 47, 57,\n         1, 61, 47, 58, 46,  0, 53, 59, 56,  1, 54, 47, 49, 43, 57,  6,  1, 43,\n        56, 43,  1, 61, 43,  1, 40, 43, 41, 53, 51, 43,  1, 56, 39, 49, 43, 57,\n        10,  1, 44, 53, 56,  1, 58, 46, 43,  1, 45, 53, 42, 57,  1, 49, 52, 53,\n        61,  1, 21,  0, 57, 54, 43, 39, 49,  1, 58, 46, 47, 57,  1, 47, 52,  1,\n        46, 59, 52, 45, 43, 56,  1, 44, 53, 56,  1, 40, 56, 43, 39, 42,  6,  1,\n        52, 53, 58,  1, 47, 52,  1, 58, 46, 47, 56, 57, 58,  1, 44, 53, 56,  1,\n        56, 43, 60, 43, 52, 45, 43,  8,  0,  0])\n",
          "output_type": "stream"
        }
      ]
    },
    {
      "cell_type": "code",
      "source": [
        "n = int(0.9*len(data))\n",
        "train_data = data[:n]\n",
        "val_data = data[n:]"
      ],
      "metadata": {
        "execution": {
          "iopub.status.busy": "2024-06-17T02:04:34.717383Z",
          "iopub.execute_input": "2024-06-17T02:04:34.717882Z",
          "iopub.status.idle": "2024-06-17T02:04:34.723333Z",
          "shell.execute_reply.started": "2024-06-17T02:04:34.717849Z",
          "shell.execute_reply": "2024-06-17T02:04:34.722036Z"
        },
        "trusted": true,
        "id": "7kWkEBAKNPLz"
      },
      "execution_count": null,
      "outputs": []
    },
    {
      "cell_type": "code",
      "source": [
        "block_size = 8\n",
        "train_data[:block_size+1]"
      ],
      "metadata": {
        "execution": {
          "iopub.status.busy": "2024-06-17T02:04:34.726913Z",
          "iopub.execute_input": "2024-06-17T02:04:34.727651Z",
          "iopub.status.idle": "2024-06-17T02:04:34.744959Z",
          "shell.execute_reply.started": "2024-06-17T02:04:34.727615Z",
          "shell.execute_reply": "2024-06-17T02:04:34.743767Z"
        },
        "trusted": true,
        "id": "8m8jNQZtNPL0",
        "outputId": "ffe749bc-0b01-4ebd-8295-d1a84f561c16"
      },
      "execution_count": null,
      "outputs": [
        {
          "execution_count": 10,
          "output_type": "execute_result",
          "data": {
            "text/plain": "tensor([18, 47, 56, 57, 58,  1, 15, 47, 58])"
          },
          "metadata": {}
        }
      ]
    },
    {
      "cell_type": "code",
      "source": [
        "x = train_data[:block_size]\n",
        "y = train_data[1:block_size+1]\n",
        "for t in range(block_size):\n",
        "    context = x[:t+1]\n",
        "    target = y[t]\n",
        "    print(f\"when input i {context} the target: {target}\")"
      ],
      "metadata": {
        "execution": {
          "iopub.status.busy": "2024-06-17T02:04:34.746527Z",
          "iopub.execute_input": "2024-06-17T02:04:34.746929Z",
          "iopub.status.idle": "2024-06-17T02:04:34.7584Z",
          "shell.execute_reply.started": "2024-06-17T02:04:34.746896Z",
          "shell.execute_reply": "2024-06-17T02:04:34.757182Z"
        },
        "trusted": true,
        "id": "sGkzjr5jNPL1",
        "outputId": "448ec490-3bf8-452a-9e0c-bd84b0ce606a"
      },
      "execution_count": null,
      "outputs": [
        {
          "name": "stdout",
          "text": "when input i tensor([18]) the target: 47\nwhen input i tensor([18, 47]) the target: 56\nwhen input i tensor([18, 47, 56]) the target: 57\nwhen input i tensor([18, 47, 56, 57]) the target: 58\nwhen input i tensor([18, 47, 56, 57, 58]) the target: 1\nwhen input i tensor([18, 47, 56, 57, 58,  1]) the target: 15\nwhen input i tensor([18, 47, 56, 57, 58,  1, 15]) the target: 47\nwhen input i tensor([18, 47, 56, 57, 58,  1, 15, 47]) the target: 58\n",
          "output_type": "stream"
        }
      ]
    },
    {
      "cell_type": "code",
      "source": [
        "torch.manual_seed(1337)\n",
        "batch_size = 4\n",
        "block_size = 8\n",
        "\n",
        "def get_batch(split):\n",
        "    data = train_data if split == 'train' else val_data\n",
        "    ix = torch.randint(len(data) - block_size, (batch_size,))\n",
        "    x = torch.stack([data[i:i+block_size] for i in ix])\n",
        "    y = torch.stack([data[i+1:i+block_size+1] for i in ix])\n",
        "    return x, y\n",
        "xb, yb = get_batch('train')\n",
        "print('inputs: ')\n",
        "print(xb.shape)\n",
        "print(xb)\n",
        "print('targets: ')\n",
        "print(yb.shape)\n",
        "print(yb)\n",
        "\n",
        "print('------------')\n",
        "for b in range(batch_size):\n",
        "    for t in range(block_size):\n",
        "        context = xb[b, :t+1]\n",
        "        target = yb[b, t]\n",
        "        print(f\"when input is {context.tolist()} the target: {target}\")"
      ],
      "metadata": {
        "execution": {
          "iopub.status.busy": "2024-06-17T02:04:34.760391Z",
          "iopub.execute_input": "2024-06-17T02:04:34.76134Z",
          "iopub.status.idle": "2024-06-17T02:04:34.803982Z",
          "shell.execute_reply.started": "2024-06-17T02:04:34.761294Z",
          "shell.execute_reply": "2024-06-17T02:04:34.802658Z"
        },
        "trusted": true,
        "id": "f3lNW-BiNPL1",
        "outputId": "2f79e24f-fc94-4a6c-f927-ad2e12546259"
      },
      "execution_count": null,
      "outputs": [
        {
          "name": "stdout",
          "text": "inputs: \ntorch.Size([4, 8])\ntensor([[24, 43, 58,  5, 57,  1, 46, 43],\n        [44, 53, 56,  1, 58, 46, 39, 58],\n        [52, 58,  1, 58, 46, 39, 58,  1],\n        [25, 17, 27, 10,  0, 21,  1, 54]])\ntargets: \ntorch.Size([4, 8])\ntensor([[43, 58,  5, 57,  1, 46, 43, 39],\n        [53, 56,  1, 58, 46, 39, 58,  1],\n        [58,  1, 58, 46, 39, 58,  1, 46],\n        [17, 27, 10,  0, 21,  1, 54, 39]])\n------------\nwhen input is [24] the target: 43\nwhen input is [24, 43] the target: 58\nwhen input is [24, 43, 58] the target: 5\nwhen input is [24, 43, 58, 5] the target: 57\nwhen input is [24, 43, 58, 5, 57] the target: 1\nwhen input is [24, 43, 58, 5, 57, 1] the target: 46\nwhen input is [24, 43, 58, 5, 57, 1, 46] the target: 43\nwhen input is [24, 43, 58, 5, 57, 1, 46, 43] the target: 39\nwhen input is [44] the target: 53\nwhen input is [44, 53] the target: 56\nwhen input is [44, 53, 56] the target: 1\nwhen input is [44, 53, 56, 1] the target: 58\nwhen input is [44, 53, 56, 1, 58] the target: 46\nwhen input is [44, 53, 56, 1, 58, 46] the target: 39\nwhen input is [44, 53, 56, 1, 58, 46, 39] the target: 58\nwhen input is [44, 53, 56, 1, 58, 46, 39, 58] the target: 1\nwhen input is [52] the target: 58\nwhen input is [52, 58] the target: 1\nwhen input is [52, 58, 1] the target: 58\nwhen input is [52, 58, 1, 58] the target: 46\nwhen input is [52, 58, 1, 58, 46] the target: 39\nwhen input is [52, 58, 1, 58, 46, 39] the target: 58\nwhen input is [52, 58, 1, 58, 46, 39, 58] the target: 1\nwhen input is [52, 58, 1, 58, 46, 39, 58, 1] the target: 46\nwhen input is [25] the target: 17\nwhen input is [25, 17] the target: 27\nwhen input is [25, 17, 27] the target: 10\nwhen input is [25, 17, 27, 10] the target: 0\nwhen input is [25, 17, 27, 10, 0] the target: 21\nwhen input is [25, 17, 27, 10, 0, 21] the target: 1\nwhen input is [25, 17, 27, 10, 0, 21, 1] the target: 54\nwhen input is [25, 17, 27, 10, 0, 21, 1, 54] the target: 39\n",
          "output_type": "stream"
        }
      ]
    },
    {
      "cell_type": "code",
      "source": [
        "print(xb)"
      ],
      "metadata": {
        "execution": {
          "iopub.status.busy": "2024-06-17T02:04:34.806263Z",
          "iopub.execute_input": "2024-06-17T02:04:34.806754Z",
          "iopub.status.idle": "2024-06-17T02:04:34.813909Z",
          "shell.execute_reply.started": "2024-06-17T02:04:34.806709Z",
          "shell.execute_reply": "2024-06-17T02:04:34.812433Z"
        },
        "trusted": true,
        "id": "KAVeazOENPL2",
        "outputId": "04c0628c-fd28-4256-cdfc-6955a75bf7a9"
      },
      "execution_count": null,
      "outputs": [
        {
          "name": "stdout",
          "text": "tensor([[24, 43, 58,  5, 57,  1, 46, 43],\n        [44, 53, 56,  1, 58, 46, 39, 58],\n        [52, 58,  1, 58, 46, 39, 58,  1],\n        [25, 17, 27, 10,  0, 21,  1, 54]])\n",
          "output_type": "stream"
        }
      ]
    },
    {
      "cell_type": "code",
      "source": [
        "import torch\n",
        "import torch.nn as nn\n",
        "from torch.nn import functional as F\n",
        "torch.manual_seed(1337)\n",
        "\n",
        "class BigramLanguageModel(nn.Module):\n",
        "    def __init__(self, vocab_size):\n",
        "        super().__init__()\n",
        "        self.token_embedding_table = nn.Embedding(vocab_size, vocab_size)\n",
        "\n",
        "    def forward(self, idx, targets=None):\n",
        "        logits = self.token_embedding_table(idx)\n",
        "        if targets is None:\n",
        "            loss = None\n",
        "        else:\n",
        "            B,T,C = logits.shape\n",
        "            logits = logits.view(B*T, C)\n",
        "            targets = targets.view(B*T)\n",
        "            loss = F.cross_entropy(logits, targets)\n",
        "        return logits, loss\n",
        "\n",
        "    def generate(self, idx, max_new_tokens):\n",
        "        for _ in range(max_new_tokens):\n",
        "            logits, loss = self(idx)\n",
        "            logits = logits[:, -1, :]\n",
        "            probs = F.softmax(logits, dim=-1)\n",
        "            idx_next = torch.multinomial(probs, num_samples=1)\n",
        "            idx = torch.cat((idx, idx_next), dim=1)\n",
        "        return idx\n",
        "\n",
        "m = BigramLanguageModel(vocab_size)\n",
        "logits, loss = m(xb, yb)\n",
        "print(logits.shape)\n",
        "print(loss)\n",
        "print(decode(m.generate(idx = torch.zeros((1,1), dtype=torch.long), max_new_tokens=100)[0].tolist()))"
      ],
      "metadata": {
        "execution": {
          "iopub.status.busy": "2024-06-17T02:04:34.815523Z",
          "iopub.execute_input": "2024-06-17T02:04:34.81615Z",
          "iopub.status.idle": "2024-06-17T02:04:34.928949Z",
          "shell.execute_reply.started": "2024-06-17T02:04:34.816113Z",
          "shell.execute_reply": "2024-06-17T02:04:34.927684Z"
        },
        "trusted": true,
        "id": "lSV6_fpMNPL3",
        "outputId": "a7456f24-8889-4973-ad07-75018604b87b"
      },
      "execution_count": null,
      "outputs": [
        {
          "name": "stdout",
          "text": "torch.Size([32, 65])\ntensor(4.8786, grad_fn=<NllLossBackward0>)\n\nSr?qP-QWktXoL&jLDJgOLVz'RIoDqHdhsV&vLLxatjscMpwLERSPyao.qfzs$Ys$zF-w,;eEkzxjgCKFChs!iWW.ObzDnxA Ms$3\n",
          "output_type": "stream"
        }
      ]
    },
    {
      "cell_type": "code",
      "source": [
        "optimizer = torch.optim.AdamW(m.parameters(), lr=1e-3)"
      ],
      "metadata": {
        "execution": {
          "iopub.status.busy": "2024-06-17T02:04:34.930337Z",
          "iopub.execute_input": "2024-06-17T02:04:34.930845Z",
          "iopub.status.idle": "2024-06-17T02:04:36.389612Z",
          "shell.execute_reply.started": "2024-06-17T02:04:34.9308Z",
          "shell.execute_reply": "2024-06-17T02:04:36.38817Z"
        },
        "trusted": true,
        "id": "sfVkTgo5NPL3"
      },
      "execution_count": null,
      "outputs": []
    },
    {
      "cell_type": "code",
      "source": [
        "batch_size = 32\n",
        "for steps in range(10000):\n",
        "    xb, yb = get_batch('train')\n",
        "    logits, loss = m(xb, yb)\n",
        "    optimizer.zero_grad(set_to_none=True)\n",
        "    loss.backward()\n",
        "    optimizer.step()\n",
        "print(loss.item())"
      ],
      "metadata": {
        "execution": {
          "iopub.status.busy": "2024-06-17T02:04:54.446696Z",
          "iopub.execute_input": "2024-06-17T02:04:54.447114Z",
          "iopub.status.idle": "2024-06-17T02:05:12.374084Z",
          "shell.execute_reply.started": "2024-06-17T02:04:54.447079Z",
          "shell.execute_reply": "2024-06-17T02:05:12.372743Z"
        },
        "trusted": true,
        "id": "hXkcq0G8NPL3",
        "outputId": "880e9d49-409e-4911-98eb-59cd377c4d3f"
      },
      "execution_count": null,
      "outputs": [
        {
          "name": "stdout",
          "text": "2.6308653354644775\n",
          "output_type": "stream"
        }
      ]
    },
    {
      "cell_type": "code",
      "source": [
        "print(decode(m.generate(idx = torch.zeros((1,1), dtype=torch.long), max_new_tokens=500)[0].tolist()))"
      ],
      "metadata": {
        "execution": {
          "iopub.status.busy": "2024-06-17T02:05:27.491425Z",
          "iopub.execute_input": "2024-06-17T02:05:27.492511Z",
          "iopub.status.idle": "2024-06-17T02:05:27.559325Z",
          "shell.execute_reply.started": "2024-06-17T02:05:27.492466Z",
          "shell.execute_reply": "2024-06-17T02:05:27.558143Z"
        },
        "trusted": true,
        "id": "HvKaqotfNPL4",
        "outputId": "ef95d0a6-b8fc-4d96-a00c-9459503d3a57"
      },
      "execution_count": null,
      "outputs": [
        {
          "name": "stdout",
          "text": "\n\nThthe s chebro lrid,\nSe'lan foowom ndiske\ntukistlinas:\n\nOrat lyowe wiclin:\nALLars t th cinod as!\nThevedevead;AEJUCaroftt,\nADerde hy s tr;\nGSt cicoutrncolond p f IAwathaner:\nONat they t fo be gs blle weamyoure itintet in'sut loomalll ink!\nF s sur,\nThaveine thayouditelfrenevecyowe tes, hile\nFas d,\nTID:\n\n\nOME sheve ind f bevk, nes kimad'T:\nQUCEShaloro llomewileat t.\n\nt lwntelllllen s! m harilet? l y. w tt t, witsheameanestord mes.\nWh fe:\n\nhetht loowhis!Froo allie thour mecof COWhe thathemy,\nE:\nJUC\n",
          "output_type": "stream"
        }
      ]
    },
    {
      "cell_type": "markdown",
      "source": [
        "**Mathematcal trick of self-attention**"
      ],
      "metadata": {
        "id": "3EoX3lWENPL4"
      }
    },
    {
      "cell_type": "code",
      "source": [
        "torch.manual_seed(1337)\n",
        "B,T,C = 4,8,2\n",
        "x = torch.randn(B,T,C)\n",
        "x.shape"
      ],
      "metadata": {
        "execution": {
          "iopub.status.busy": "2024-06-17T02:34:20.390774Z",
          "iopub.execute_input": "2024-06-17T02:34:20.391186Z",
          "iopub.status.idle": "2024-06-17T02:34:20.400843Z",
          "shell.execute_reply.started": "2024-06-17T02:34:20.391152Z",
          "shell.execute_reply": "2024-06-17T02:34:20.399516Z"
        },
        "trusted": true,
        "id": "8SXLJ85eNPL5",
        "outputId": "3f619acc-d4d6-495e-c1bc-60868db7c47c"
      },
      "execution_count": null,
      "outputs": [
        {
          "execution_count": 21,
          "output_type": "execute_result",
          "data": {
            "text/plain": "torch.Size([4, 8, 2])"
          },
          "metadata": {}
        }
      ]
    },
    {
      "cell_type": "code",
      "source": [
        "xbow = torch.zeros((B,T,C))\n",
        "for b in range(B):\n",
        "    for t in range(T):\n",
        "        xprev = x[b,:t+1]\n",
        "        xbow[b,t] = torch.mean(xprev, 0)"
      ],
      "metadata": {
        "execution": {
          "iopub.status.busy": "2024-06-17T03:01:31.109884Z",
          "iopub.execute_input": "2024-06-17T03:01:31.111029Z",
          "iopub.status.idle": "2024-06-17T03:01:31.121831Z",
          "shell.execute_reply.started": "2024-06-17T03:01:31.110989Z",
          "shell.execute_reply": "2024-06-17T03:01:31.120533Z"
        },
        "trusted": true,
        "id": "dVC5GKr4NPL5"
      },
      "execution_count": null,
      "outputs": []
    },
    {
      "cell_type": "code",
      "source": [
        "x[0]"
      ],
      "metadata": {
        "execution": {
          "iopub.status.busy": "2024-06-17T03:01:34.331606Z",
          "iopub.execute_input": "2024-06-17T03:01:34.332529Z",
          "iopub.status.idle": "2024-06-17T03:01:34.34109Z",
          "shell.execute_reply.started": "2024-06-17T03:01:34.332491Z",
          "shell.execute_reply": "2024-06-17T03:01:34.340039Z"
        },
        "trusted": true,
        "id": "-7TrqssmNPL5",
        "outputId": "f3bb8707-50b4-4f14-eda3-7416293a65b0"
      },
      "execution_count": null,
      "outputs": [
        {
          "execution_count": 23,
          "output_type": "execute_result",
          "data": {
            "text/plain": "tensor([[ 0.1808, -0.0700],\n        [-0.3596, -0.9152],\n        [ 0.6258,  0.0255],\n        [ 0.9545,  0.0643],\n        [ 0.3612,  1.1679],\n        [-1.3499, -0.5102],\n        [ 0.2360, -0.2398],\n        [-0.9211,  1.5433]])"
          },
          "metadata": {}
        }
      ]
    },
    {
      "cell_type": "code",
      "source": [
        "wei = torch.tril(torch.ones(T,T))\n",
        "wei = wei /wei.sum(1, keepdim=True)\n",
        "xbow2 = wei @ x"
      ],
      "metadata": {
        "execution": {
          "iopub.status.busy": "2024-06-17T03:07:01.357016Z",
          "iopub.execute_input": "2024-06-17T03:07:01.357526Z",
          "iopub.status.idle": "2024-06-17T03:07:01.368337Z",
          "shell.execute_reply.started": "2024-06-17T03:07:01.357488Z",
          "shell.execute_reply": "2024-06-17T03:07:01.367043Z"
        },
        "trusted": true,
        "id": "u7nHbQs1NPL5",
        "outputId": "c0eee050-67f9-4d4d-a819-9aeab489f854"
      },
      "execution_count": null,
      "outputs": [
        {
          "execution_count": 24,
          "output_type": "execute_result",
          "data": {
            "text/plain": "tensor([[1.0000, 0.0000, 0.0000, 0.0000, 0.0000, 0.0000, 0.0000, 0.0000],\n        [0.5000, 0.5000, 0.0000, 0.0000, 0.0000, 0.0000, 0.0000, 0.0000],\n        [0.3333, 0.3333, 0.3333, 0.0000, 0.0000, 0.0000, 0.0000, 0.0000],\n        [0.2500, 0.2500, 0.2500, 0.2500, 0.0000, 0.0000, 0.0000, 0.0000],\n        [0.2000, 0.2000, 0.2000, 0.2000, 0.2000, 0.0000, 0.0000, 0.0000],\n        [0.1667, 0.1667, 0.1667, 0.1667, 0.1667, 0.1667, 0.0000, 0.0000],\n        [0.1429, 0.1429, 0.1429, 0.1429, 0.1429, 0.1429, 0.1429, 0.0000],\n        [0.1250, 0.1250, 0.1250, 0.1250, 0.1250, 0.1250, 0.1250, 0.1250]])"
          },
          "metadata": {}
        }
      ]
    },
    {
      "cell_type": "code",
      "source": [
        "tril = torch.tril(torch.ones(T,T))\n",
        "wei = torch.zeros((T,T))\n",
        "wei = wei.masked_fill(tril ==0, float('-inf'))\n",
        "wei = F.softmax(wei, dim=-1)\n",
        "xbow3 = wei @ x\n",
        "torch.allclose(xbow, xbow3)"
      ],
      "metadata": {
        "id": "b_nUcw2RNPL6"
      },
      "execution_count": null,
      "outputs": []
    },
    {
      "cell_type": "code",
      "source": [],
      "metadata": {
        "id": "SALu47rJNPL6"
      },
      "execution_count": null,
      "outputs": []
    }
  ]
}